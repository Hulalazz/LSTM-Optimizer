{
 "cells": [
  {
   "cell_type": "code",
   "execution_count": 1,
   "metadata": {
    "collapsed": false
   },
   "outputs": [
    {
     "name": "stderr",
     "output_type": "stream",
     "text": [
      "Using gpu device 0: Tesla K40m (CNMeM is disabled, cuDNN 4007)\n"
     ]
    }
   ],
   "source": [
    "import theano\n",
    "import theano.tensor as T\n",
    "import lasagne as L\n",
    "\n",
    "from theano.printing import Print as TPP\n",
    "\n",
    "import time\n",
    "from IPython import display\n",
    "\n",
    "import numpy as np\n",
    "import pandas as pd\n",
    "import matplotlib.pyplot as plt\n",
    "%matplotlib inline"
   ]
  },
  {
   "cell_type": "code",
   "execution_count": 2,
   "metadata": {
    "collapsed": false
   },
   "outputs": [],
   "source": [
    "%run ../ntm_bfgs_optimizer.py"
   ]
  },
  {
   "cell_type": "code",
   "execution_count": 3,
   "metadata": {
    "collapsed": false
   },
   "outputs": [],
   "source": [
    "class QuadraticFunction:\n",
    "    def __init__(self, theta=None, W=None, b=None):\n",
    "        self.W = W or T.matrix('W')\n",
    "        self.b = b or T.vector('b')\n",
    "    \n",
    "        self.theta = theta or T.vector('theta')\n",
    "        \n",
    "        self.func = ((T.dot(self.W, self.theta) - self.b)**2).sum() / self.W.shape[0]\n",
    "        self.grad = theano.grad(self.func, self.theta)\n",
    "        \n",
    "        self.params = [self.W, self.b]"
   ]
  },
  {
   "cell_type": "code",
   "execution_count": 4,
   "metadata": {
    "collapsed": false
   },
   "outputs": [],
   "source": [
    "W = T.matrix()\n",
    "b = T.vector()\n",
    "    \n",
    "func = lambda theta: QuadraticFunction(theta, W, b).func"
   ]
  },
  {
   "cell_type": "code",
   "execution_count": 5,
   "metadata": {
    "collapsed": true
   },
   "outputs": [],
   "source": [
    "input_var = T.vector()"
   ]
  },
  {
   "cell_type": "code",
   "execution_count": 6,
   "metadata": {
    "collapsed": false
   },
   "outputs": [],
   "source": [
    "def sgd_step(theta, lr):\n",
    "    f = func(theta)\n",
    "    g = theano.grad(f, theta)\n",
    "    return theta - lr * g, f\n",
    "\n",
    "n_steps = T.iscalar()\n",
    "\n",
    "sgd_lr = T.scalar()\n",
    "sgd_thetas, sgd_losses = theano.scan(fn=sgd_step,\n",
    "                                        outputs_info=[input_var, None],\n",
    "                                                      non_sequences=sgd_lr,\n",
    "                                                      n_steps=n_steps)[0]\n",
    "\n",
    "sgd_fn = theano.function([input_var, n_steps, W, b, sgd_lr], [sgd_thetas, sgd_losses], allow_input_downcast=True)"
   ]
  },
  {
   "cell_type": "code",
   "execution_count": 7,
   "metadata": {
    "collapsed": false
   },
   "outputs": [],
   "source": [
    "def momentum_step(theta, old_grad, lr, mu):\n",
    "    f = func(theta)\n",
    "    g = theano.grad(f, theta)\n",
    "    new_grad = mu * old_grad + g\n",
    "    return theta - lr * new_grad, f, new_grad\n",
    "\n",
    "momentum_steps = T.iscalar()\n",
    "momentum_mu = T.scalar()\n",
    "\n",
    "momentum_thetas, momentum_losses, _ = theano.scan(fn=momentum_step,\n",
    "                                                  outputs_info=[input_var, None, T.zeros_like(input_var)],\n",
    "                                                  non_sequences=[sgd_lr, momentum_mu],\n",
    "                                                  n_steps=n_steps)[0]\n",
    "\n",
    "momentum_fn = theano.function([input_var, n_steps, W, b, sgd_lr], [momentum_thetas, momentum_losses], allow_input_downcast=True, givens={\n",
    "        momentum_mu: np.cast['float32'](0.9),\n",
    "    })"
   ]
  },
  {
   "cell_type": "code",
   "execution_count": 9,
   "metadata": {
    "collapsed": false,
    "scrolled": true
   },
   "outputs": [
    {
     "name": "stdout",
     "output_type": "stream",
     "text": [
      "n_gac=0; loglr=False\n",
      "n_gac=0; loglr=True\n",
      "n_gac=5; loglr=False\n",
      "n_gac=5; loglr=True\n"
     ]
    }
   ],
   "source": [
    "lstm_optimizers = {}\n",
    "\n",
    "options = {\n",
    "    'num_units': 20,\n",
    "    'function': func,\n",
    "    'n_layers': 2,\n",
    "    'preprocess_input': False,\n",
    "    'gradient_steps': 20,    \n",
    "    'input_var': input_var,\n",
    "    'memdot': True,\n",
    "    'scale_output': 1e-2,\n",
    "}\n",
    "\n",
    "for n_gac in [0, 5]: #for n_gac in [0, 5]:\n",
    "    for loglr in [False, True]:#for loglr in [False, True]:\n",
    "        options['n_gac'] = n_gac\n",
    "        options['loglr'] = loglr\n",
    "        \n",
    "        key = \"n_gac={}; loglr={}\".format(n_gac, loglr)\n",
    "        if options.get(key, None) is None:\n",
    "            lstm_optimizers[key] = NTM_BFGS_Optimizer(**options)\n",
    "            print(key)"
   ]
  },
  {
   "cell_type": "code",
   "execution_count": 10,
   "metadata": {
    "collapsed": false
   },
   "outputs": [],
   "source": [
    "def sample_params(ndim=None):\n",
    "    ndim = ndim or (np.random.randint(low=0, high=50) + 1)\n",
    "    \n",
    "    W = np.cast['float32'](np.random.randn(ndim, ndim))\n",
    "    b = np.cast['float32'](np.random.randn(ndim))\n",
    "    return W, b\n",
    "\n",
    "def sample_point(ndim):\n",
    "    theta = np.cast['float32'](np.random.randn(ndim))\n",
    "    return theta\n",
    "\n",
    "def sample_point_and_params(ndim=None):\n",
    "    W, b = sample_params(ndim)\n",
    "    theta = sample_point(len(b))\n",
    "    \n",
    "    return theta, (W, b)"
   ]
  },
  {
   "cell_type": "code",
   "execution_count": null,
   "metadata": {
    "collapsed": false,
    "scrolled": false
   },
   "outputs": [
    {
     "name": "stdout",
     "output_type": "stream",
     "text": [
      "Time compiling loss_fn: 1.7286062240600586\n",
      "Time compiling train_fn: 55.56109261512756\n",
      "n_gac=0; loglr=False\n"
     ]
    },
    {
     "ename": "KeyboardInterrupt",
     "evalue": "",
     "output_type": "error",
     "traceback": [
      "\u001b[0;31m---------------------------------------------------------------------------\u001b[0m",
      "\u001b[0;31mKeyboardInterrupt\u001b[0m                         Traceback (most recent call last)",
      "\u001b[0;32m<ipython-input-11-d838528e9667>\u001b[0m in \u001b[0;36m<module>\u001b[0;34m()\u001b[0m\n\u001b[1;32m     19\u001b[0m         \u001b[0mtraining_options\u001b[0m\u001b[0;34m[\u001b[0m\u001b[0;34m'n_iter'\u001b[0m\u001b[0;34m]\u001b[0m \u001b[0;34m=\u001b[0m \u001b[0mn_iter\u001b[0m\u001b[0;34m\u001b[0m\u001b[0m\n\u001b[1;32m     20\u001b[0m \u001b[0;31m#         opt.lr.set_value(0.005)\u001b[0m\u001b[0;34m\u001b[0m\u001b[0;34m\u001b[0m\u001b[0m\n\u001b[0;32m---> 21\u001b[0;31m         \u001b[0moptimizer_losses\u001b[0m\u001b[0;34m[\u001b[0m\u001b[0mkey\u001b[0m\u001b[0;34m]\u001b[0m \u001b[0;34m+=\u001b[0m \u001b[0mopt\u001b[0m\u001b[0;34m.\u001b[0m\u001b[0mtrain\u001b[0m\u001b[0;34m(\u001b[0m\u001b[0msampler\u001b[0m\u001b[0;34m,\u001b[0m \u001b[0;34m**\u001b[0m\u001b[0mtraining_options\u001b[0m\u001b[0;34m)\u001b[0m\u001b[0;34m\u001b[0m\u001b[0m\n\u001b[0m\u001b[1;32m     22\u001b[0m \u001b[0;34m\u001b[0m\u001b[0m\n\u001b[1;32m     23\u001b[0m \u001b[0;31m#         display.clear_output(wait=True)\u001b[0m\u001b[0;34m\u001b[0m\u001b[0;34m\u001b[0m\u001b[0m\n",
      "\u001b[0;32m/home/vyanush/LSTM-Optimizer/trainable_optimizer.py\u001b[0m in \u001b[0;36mtrain\u001b[0;34m(self, sample_function, n_iter, n_epochs, batch_size, decay_rate, verbose, **kwargs)\u001b[0m\n\u001b[1;32m     68\u001b[0m                 \u001b[0mtheta\u001b[0m\u001b[0;34m,\u001b[0m \u001b[0mparams\u001b[0m \u001b[0;34m=\u001b[0m \u001b[0msample_function\u001b[0m\u001b[0;34m(\u001b[0m\u001b[0;34m)\u001b[0m\u001b[0;34m\u001b[0m\u001b[0m\n\u001b[1;32m     69\u001b[0m \u001b[0;34m\u001b[0m\u001b[0m\n\u001b[0;32m---> 70\u001b[0;31m                 \u001b[0mtheta_history\u001b[0m\u001b[0;34m,\u001b[0m \u001b[0mloss_history\u001b[0m \u001b[0;34m=\u001b[0m \u001b[0mself\u001b[0m\u001b[0;34m.\u001b[0m\u001b[0mtrain_fn\u001b[0m\u001b[0;34m(\u001b[0m\u001b[0mtheta\u001b[0m\u001b[0;34m,\u001b[0m \u001b[0mn_iter\u001b[0m\u001b[0;34m,\u001b[0m \u001b[0;34m*\u001b[0m\u001b[0mparams\u001b[0m\u001b[0;34m)\u001b[0m\u001b[0;34m\u001b[0m\u001b[0m\n\u001b[0m\u001b[1;32m     71\u001b[0m                 \u001b[0mtraining_loss_history\u001b[0m\u001b[0;34m.\u001b[0m\u001b[0mappend\u001b[0m\u001b[0;34m(\u001b[0m\u001b[0mloss_history\u001b[0m\u001b[0;34m)\u001b[0m\u001b[0;34m\u001b[0m\u001b[0m\n\u001b[1;32m     72\u001b[0m \u001b[0;34m\u001b[0m\u001b[0m\n",
      "\u001b[0;32m/home/vyanush/anaconda3/lib/python3.5/site-packages/theano/compile/function_module.py\u001b[0m in \u001b[0;36m__call__\u001b[0;34m(self, *args, **kwargs)\u001b[0m\n\u001b[1;32m    871\u001b[0m         \u001b[0;32mtry\u001b[0m\u001b[0;34m:\u001b[0m\u001b[0;34m\u001b[0m\u001b[0m\n\u001b[1;32m    872\u001b[0m             \u001b[0moutputs\u001b[0m \u001b[0;34m=\u001b[0m\u001b[0;31m\\\u001b[0m\u001b[0;34m\u001b[0m\u001b[0m\n\u001b[0;32m--> 873\u001b[0;31m                 \u001b[0mself\u001b[0m\u001b[0;34m.\u001b[0m\u001b[0mfn\u001b[0m\u001b[0;34m(\u001b[0m\u001b[0;34m)\u001b[0m \u001b[0;32mif\u001b[0m \u001b[0moutput_subset\u001b[0m \u001b[0;32mis\u001b[0m \u001b[0;32mNone\u001b[0m \u001b[0;32melse\u001b[0m\u001b[0;31m\\\u001b[0m\u001b[0;34m\u001b[0m\u001b[0m\n\u001b[0m\u001b[1;32m    874\u001b[0m                 \u001b[0mself\u001b[0m\u001b[0;34m.\u001b[0m\u001b[0mfn\u001b[0m\u001b[0;34m(\u001b[0m\u001b[0moutput_subset\u001b[0m\u001b[0;34m=\u001b[0m\u001b[0moutput_subset\u001b[0m\u001b[0;34m)\u001b[0m\u001b[0;34m\u001b[0m\u001b[0m\n\u001b[1;32m    875\u001b[0m         \u001b[0;32mexcept\u001b[0m \u001b[0mException\u001b[0m\u001b[0;34m:\u001b[0m\u001b[0;34m\u001b[0m\u001b[0m\n",
      "\u001b[0;32m/home/vyanush/anaconda3/lib/python3.5/site-packages/theano/scan_module/scan_op.py\u001b[0m in \u001b[0;36mrval\u001b[0;34m(p, i, o, n, allow_gc)\u001b[0m\n\u001b[1;32m    951\u001b[0m         def rval(p=p, i=node_input_storage, o=node_output_storage, n=node,\n\u001b[1;32m    952\u001b[0m                  allow_gc=allow_gc):\n\u001b[0;32m--> 953\u001b[0;31m             \u001b[0mr\u001b[0m \u001b[0;34m=\u001b[0m \u001b[0mp\u001b[0m\u001b[0;34m(\u001b[0m\u001b[0mn\u001b[0m\u001b[0;34m,\u001b[0m \u001b[0;34m[\u001b[0m\u001b[0mx\u001b[0m\u001b[0;34m[\u001b[0m\u001b[0;36m0\u001b[0m\u001b[0;34m]\u001b[0m \u001b[0;32mfor\u001b[0m \u001b[0mx\u001b[0m \u001b[0;32min\u001b[0m \u001b[0mi\u001b[0m\u001b[0;34m]\u001b[0m\u001b[0;34m,\u001b[0m \u001b[0mo\u001b[0m\u001b[0;34m)\u001b[0m\u001b[0;34m\u001b[0m\u001b[0m\n\u001b[0m\u001b[1;32m    954\u001b[0m             \u001b[0;32mfor\u001b[0m \u001b[0mo\u001b[0m \u001b[0;32min\u001b[0m \u001b[0mnode\u001b[0m\u001b[0;34m.\u001b[0m\u001b[0moutputs\u001b[0m\u001b[0;34m:\u001b[0m\u001b[0;34m\u001b[0m\u001b[0m\n\u001b[1;32m    955\u001b[0m                 \u001b[0mcompute_map\u001b[0m\u001b[0;34m[\u001b[0m\u001b[0mo\u001b[0m\u001b[0;34m]\u001b[0m\u001b[0;34m[\u001b[0m\u001b[0;36m0\u001b[0m\u001b[0;34m]\u001b[0m \u001b[0;34m=\u001b[0m \u001b[0;32mTrue\u001b[0m\u001b[0;34m\u001b[0m\u001b[0m\n",
      "\u001b[0;32m/home/vyanush/anaconda3/lib/python3.5/site-packages/theano/scan_module/scan_op.py\u001b[0m in \u001b[0;36mp\u001b[0;34m(node, args, outs)\u001b[0m\n\u001b[1;32m    940\u001b[0m                                                 \u001b[0margs\u001b[0m\u001b[0;34m,\u001b[0m\u001b[0;34m\u001b[0m\u001b[0m\n\u001b[1;32m    941\u001b[0m                                                 \u001b[0mouts\u001b[0m\u001b[0;34m,\u001b[0m\u001b[0;34m\u001b[0m\u001b[0m\n\u001b[0;32m--> 942\u001b[0;31m                                                 self, node)\n\u001b[0m\u001b[1;32m    943\u001b[0m         \u001b[0;32mexcept\u001b[0m \u001b[0;34m(\u001b[0m\u001b[0mImportError\u001b[0m\u001b[0;34m,\u001b[0m \u001b[0mtheano\u001b[0m\u001b[0;34m.\u001b[0m\u001b[0mgof\u001b[0m\u001b[0;34m.\u001b[0m\u001b[0mcmodule\u001b[0m\u001b[0;34m.\u001b[0m\u001b[0mMissingGXX\u001b[0m\u001b[0;34m)\u001b[0m\u001b[0;34m:\u001b[0m\u001b[0;34m\u001b[0m\u001b[0m\n\u001b[1;32m    944\u001b[0m             \u001b[0mp\u001b[0m \u001b[0;34m=\u001b[0m \u001b[0mself\u001b[0m\u001b[0;34m.\u001b[0m\u001b[0mexecute\u001b[0m\u001b[0;34m\u001b[0m\u001b[0m\n",
      "\u001b[0;31mKeyboardInterrupt\u001b[0m: "
     ]
    }
   ],
   "source": [
    "training_options = {\n",
    "    'n_epochs': 30,\n",
    "    'batch_size': 200,\n",
    "    'decay_rate': 0.99,\n",
    "    'verbose': False\n",
    "}\n",
    "\n",
    "optimizer_losses = {}\n",
    "\n",
    "for key, opt in lstm_optimizers.items():\n",
    "    opt.prepare([W, b], loss_type='sum', start_lr=0.005)\n",
    "    print(key)\n",
    "\n",
    "    sampler = sample_point_and_params\n",
    "    \n",
    "    optimizer_losses[key] = []\n",
    "    \n",
    "    for n_iter in [20, 40, 60, 80, 100]:\n",
    "        training_options['n_iter'] = n_iter\n",
    "#         opt.lr.set_value(0.005)\n",
    "        optimizer_losses[key] += opt.train(sampler, **training_options)\n",
    "    \n",
    "#         display.clear_output(wait=True)\n",
    "#         opt_loss = np.array(optimizer_loss)\n",
    "#         opt_loss = opt_loss[opt_loss < 10000]\n",
    "#         plt.plot(optimizer_loss)"
   ]
  },
  {
   "cell_type": "code",
   "execution_count": 19,
   "metadata": {
    "collapsed": true
   },
   "outputs": [],
   "source": [
    "def get_moving_loss(loss):\n",
    "    moving_loss = [loss[0]]\n",
    "    for i in loss[1:]:\n",
    "        moving_loss.append(0.9 * moving_loss[-1] + 0.1 * i)\n",
    "    return moving_loss"
   ]
  },
  {
   "cell_type": "code",
   "execution_count": 21,
   "metadata": {
    "collapsed": false
   },
   "outputs": [
    {
     "name": "stdout",
     "output_type": "stream",
     "text": [
      "4237.08550453\n"
     ]
    },
    {
     "data": {
      "image/png": "[encoded data removed]",
      "text/plain": [
       "<matplotlib.figure.Figure at 0x7fa2f0e35240>"
      ]
     },
     "metadata": {},
     "output_type": "display_data"
    }
   ],
   "source": [
    "opt_loss = np.array(list(optimizer_losses.values())[0])\n",
    "opt_loss = opt_loss[opt_loss < 10000] / (20. * np.arange(30000)[opt_loss < 10000] / 6000 + 1).astype(int)\n",
    "plt.plot(opt_loss)\n",
    "print(opt_loss.max())"
   ]
  },
  {
   "cell_type": "code",
   "execution_count": 22,
   "metadata": {
    "collapsed": false
   },
   "outputs": [
    {
     "name": "stdout",
     "output_type": "stream",
     "text": [
      "48.2250414055\n",
      "23.534448486\n",
      "31.5010445462\n",
      "29.8026265061\n",
      "33.216872924\n"
     ]
    },
    {
     "data": {
      "text/plain": [
       "<matplotlib.legend.Legend at 0x7fa2f18967b8>"
      ]
     },
     "execution_count": 22,
     "metadata": {},
     "output_type": "execute_result"
    },
    {
     "data": {
      "image/png": "[encoded data removed]",
      "text/plain": [
       "<matplotlib.figure.Figure at 0x7fa2f1888518>"
      ]
     },
     "metadata": {},
     "output_type": "display_data"
    }
   ],
   "source": [
    "opt_loss = np.array(list(optimizer_losses.values())[0])\n",
    "for i in range(5):\n",
    "    cur = opt_loss[i * 6000: (i + 1) * 6000] / (20 * (i + 1))\n",
    "    cur = cur[cur < 10000]\n",
    "    cur = get_moving_loss(cur)\n",
    "    print(cur[-1])\n",
    "    plt.plot(cur, label='{} iterations'.format(20 * (i + 1)))\n",
    "plt.legend()"
   ]
  },
  {
   "cell_type": "code",
   "execution_count": 23,
   "metadata": {
    "collapsed": false
   },
   "outputs": [],
   "source": [
    "non_lstm_optimizers = {\n",
    "    'momentum': momentum_fn\n",
    "}"
   ]
  },
  {
   "cell_type": "code",
   "execution_count": null,
   "metadata": {
    "collapsed": false
   },
   "outputs": [],
   "source": [
    "# for name, opt in lstm_optimizers.items():\n",
    "#     with open('quadratic_optimizer_drop_coord_low_dim({}).npz'.format(name), 'wb') as f:\n",
    "#         np.savez(f, L.layers.get_all_param_values(opt.l_optim))"
   ]
  },
  {
   "cell_type": "code",
   "execution_count": null,
   "metadata": {
    "collapsed": false
   },
   "outputs": [],
   "source": [
    "# for name, opt in lstm_optimizers.items():\n",
    "#     with np.load('quadratic_optimizer_drop_coord_low_dim({}).npz'.format(name)) as f:\n",
    "#         param_values = [f['arr_%d' % i] for i in range(len(f.files))]\n",
    "#     L.layers.set_all_param_values(opt.l_optim, param_values[0])"
   ]
  },
  {
   "cell_type": "code",
   "execution_count": null,
   "metadata": {
    "collapsed": false,
    "scrolled": true
   },
   "outputs": [
    {
     "name": "stdout",
     "output_type": "stream",
     "text": [
      "2\n"
     ]
    }
   ],
   "source": [
    "import itertools\n",
    "\n",
    "generalization_loss_lstm = {}\n",
    "for name in lstm_optimizers:\n",
    "    generalization_loss_lstm[name] = []\n",
    "#     generalization_loss_lstm[name + \"_det\"] = []\n",
    "\n",
    "for n_c in itertools.chain(range(2, 150), range(900, 1000)):\n",
    "    print(n_c)\n",
    "\n",
    "    points_and_params = [sample_point_and_params(ndim=n_c) for _ in range(10)]\n",
    "    \n",
    "    for name, opt in lstm_optimizers.items():\n",
    "        losses = []\n",
    "#         losses_det = []\n",
    "        \n",
    "        for theta, (W_, b_) in points_and_params:\n",
    "            loss = opt.optimize(theta, [W_, b_], 100)[1][-1]\n",
    "#             loss_det = opt.loss_det_fn(theta, 100, W_, b_)[1][-1]\n",
    "            \n",
    "            losses.append(loss)\n",
    "#             losses_det.append(loss_det)\n",
    "    \n",
    "        generalization_loss_lstm[name].append(np.mean(losses))\n",
    "#         generalization_loss_lstm[name + \"_det\"].append(np.mean(losses_det))"
   ]
  },
  {
   "cell_type": "code",
   "execution_count": null,
   "metadata": {
    "collapsed": false,
    "scrolled": false
   },
   "outputs": [],
   "source": [
    "fig, (ax1, ax2, ax3) = plt.subplots(3, 1, figsize=(12, 24))\n",
    "\n",
    "for name, losses in sorted(generalization_loss_lstm.items()): \n",
    "    if name.find('False') == -1:\n",
    "        linestyle = 'solid'\n",
    "    else:\n",
    "        linestyle = '--'\n",
    "        \n",
    "    ax1.semilogy(list(range(2, 150)) + list(range(900, 1000)), losses[:], label=name, linestyle=linestyle)\n",
    "    ax2.semilogy(list(range(2, 150)), losses[:148], label=name, linestyle=linestyle)\n",
    "    ax3.semilogy(list(range(22, 150)) + list(range(900, 1000)), losses[20:], label=name, linestyle=linestyle)\n",
    "    \n",
    "# fig.legend(loc=4);\n",
    "ax1.legend(loc=4)\n",
    "ax2.legend(loc=4)\n",
    "ax3.legend(loc=2)\n",
    "fig.tight_layout()"
   ]
  },
  {
   "cell_type": "code",
   "execution_count": 24,
   "metadata": {
    "collapsed": true
   },
   "outputs": [],
   "source": [
    "def test_optimizers(**testing_options):\n",
    "    thetas_and_params = [testing_options['sampler']() for _ in range(testing_options['n_functions'])]\n",
    "    \n",
    "    histories = {}\n",
    "    \n",
    "    for key, opt in lstm_optimizers.items():\n",
    "        print(\"Testing lstm; {key}\".format(**locals()))\n",
    "        loss_history = [] \n",
    "#         loss_history_det = [] \n",
    "        for theta, (W_, b_) in thetas_and_params:\n",
    "            loss_history.append(opt.optimize(theta, [W_, b_], testing_options['n_iter'])[1])\n",
    "#             loss_history_det.append(opt.loss_det_fn(theta, testing_options['n_iter'], W_, b_)[1])\n",
    "            \n",
    "        histories['lstm; {}'.format(key)] = np.median(loss_history, axis=0)\n",
    "#         histories['lstm_det; {}'.format(key)] = np.median(loss_history_det, axis=0)\n",
    "\n",
    "    lrates = np.logspace(0, 29, num=30, base=2.0) * 1e-6\n",
    "    \n",
    "    for name, opt in non_lstm_optimizers.items():\n",
    "        best_lrate = None\n",
    "        best_loss = None\n",
    "        best_history = None\n",
    "\n",
    "        print(\"Testing {name}\".format(**locals()))\n",
    "        \n",
    "        for lrate in lrates:\n",
    "            loss_history = [] \n",
    "            for theta, (W_, b_) in thetas_and_params:\n",
    "                loss_history.append(opt(theta, testing_options['n_iter'], W_, b_, lrate)[1])\n",
    "            \n",
    "            if np.isnan(loss_history).any():\n",
    "                break\n",
    "            \n",
    "            loss = np.median(loss_history, axis=0)[-1]\n",
    "            if best_loss is None or best_loss > loss:\n",
    "                best_loss = loss\n",
    "                best_lrate = lrate\n",
    "                best_history = np.median(loss_history, axis=0)\n",
    "                \n",
    "        histories[\"{name}; lr={best_lrate}\".format(**locals())] = best_history\n",
    "    return histories"
   ]
  },
  {
   "cell_type": "code",
   "execution_count": 28,
   "metadata": {
    "collapsed": false
   },
   "outputs": [
    {
     "name": "stdout",
     "output_type": "stream",
     "text": [
      "Testing lstm; n_gac=0; loglr=False\n",
      "Testing lstm; n_gac=5; loglr=True\n",
      "Testing lstm; n_gac=5; loglr=False\n",
      "Testing momentum\n"
     ]
    }
   ],
   "source": [
    "testing_options = {\n",
    "    'n_iter': 60,\n",
    "    'n_functions': 50,\n",
    "    'sampler': sample_point_and_params\n",
    "}\n",
    "\n",
    "histories_60 = test_optimizers(**testing_options)"
   ]
  },
  {
   "cell_type": "code",
   "execution_count": 29,
   "metadata": {
    "collapsed": false
   },
   "outputs": [
    {
     "name": "stdout",
     "output_type": "stream",
     "text": [
      "Testing lstm; n_gac=0; loglr=False\n",
      "Testing lstm; n_gac=5; loglr=True\n",
      "Testing lstm; n_gac=5; loglr=False\n",
      "Testing momentum\n"
     ]
    }
   ],
   "source": [
    "testing_options = {\n",
    "    'n_iter': 500,\n",
    "    'n_functions': 1,\n",
    "    'sampler': sample_point_and_params\n",
    "}\n",
    "\n",
    "histories_1_func = test_optimizers(**testing_options)"
   ]
  },
  {
   "cell_type": "code",
   "execution_count": 30,
   "metadata": {
    "collapsed": false
   },
   "outputs": [
    {
     "ename": "NameError",
     "evalue": "name 'histories_500' is not defined",
     "output_type": "error",
     "traceback": [
      "\u001b[0;31m---------------------------------------------------------------------------\u001b[0m",
      "\u001b[0;31mNameError\u001b[0m                                 Traceback (most recent call last)",
      "\u001b[0;32m<ipython-input-30-3aa4af58dd79>\u001b[0m in \u001b[0;36m<module>\u001b[0;34m()\u001b[0m\n\u001b[1;32m      1\u001b[0m \u001b[0mfig\u001b[0m\u001b[0;34m,\u001b[0m \u001b[0;34m(\u001b[0m\u001b[0max1\u001b[0m\u001b[0;34m,\u001b[0m \u001b[0max2\u001b[0m\u001b[0;34m,\u001b[0m \u001b[0max3\u001b[0m\u001b[0;34m)\u001b[0m \u001b[0;34m=\u001b[0m \u001b[0mplt\u001b[0m\u001b[0;34m.\u001b[0m\u001b[0msubplots\u001b[0m\u001b[0;34m(\u001b[0m\u001b[0;36m3\u001b[0m\u001b[0;34m,\u001b[0m \u001b[0;36m1\u001b[0m\u001b[0;34m,\u001b[0m \u001b[0mfigsize\u001b[0m\u001b[0;34m=\u001b[0m\u001b[0;34m(\u001b[0m\u001b[0;36m12\u001b[0m\u001b[0;34m,\u001b[0m \u001b[0;36m18\u001b[0m\u001b[0;34m)\u001b[0m\u001b[0;34m)\u001b[0m\u001b[0;34m\u001b[0m\u001b[0m\n\u001b[1;32m      2\u001b[0m \u001b[0;34m\u001b[0m\u001b[0m\n\u001b[0;32m----> 3\u001b[0;31m \u001b[0;32mfor\u001b[0m \u001b[0mname\u001b[0m \u001b[0;32min\u001b[0m \u001b[0msorted\u001b[0m\u001b[0;34m(\u001b[0m\u001b[0mset\u001b[0m\u001b[0;34m(\u001b[0m\u001b[0mlist\u001b[0m\u001b[0;34m(\u001b[0m\u001b[0mhistories_60\u001b[0m\u001b[0;34m.\u001b[0m\u001b[0mkeys\u001b[0m\u001b[0;34m(\u001b[0m\u001b[0;34m)\u001b[0m\u001b[0;34m)\u001b[0m \u001b[0;34m+\u001b[0m \u001b[0mlist\u001b[0m\u001b[0;34m(\u001b[0m\u001b[0mhistories_500\u001b[0m\u001b[0;34m.\u001b[0m\u001b[0mkeys\u001b[0m\u001b[0;34m(\u001b[0m\u001b[0;34m)\u001b[0m\u001b[0;34m)\u001b[0m \u001b[0;34m+\u001b[0m \u001b[0mlist\u001b[0m\u001b[0;34m(\u001b[0m\u001b[0mhistories_1_func\u001b[0m\u001b[0;34m.\u001b[0m\u001b[0mkeys\u001b[0m\u001b[0;34m(\u001b[0m\u001b[0;34m)\u001b[0m\u001b[0;34m)\u001b[0m\u001b[0;34m)\u001b[0m\u001b[0;34m)\u001b[0m\u001b[0;34m:\u001b[0m\u001b[0;34m\u001b[0m\u001b[0m\n\u001b[0m\u001b[1;32m      4\u001b[0m     \u001b[0;32mif\u001b[0m \u001b[0mname\u001b[0m\u001b[0;34m.\u001b[0m\u001b[0mfind\u001b[0m\u001b[0;34m(\u001b[0m\u001b[0;34m'det'\u001b[0m\u001b[0;34m)\u001b[0m \u001b[0;34m!=\u001b[0m \u001b[0;34m-\u001b[0m\u001b[0;36m1\u001b[0m\u001b[0;34m:\u001b[0m\u001b[0;34m\u001b[0m\u001b[0m\n\u001b[1;32m      5\u001b[0m         \u001b[0;32mcontinue\u001b[0m\u001b[0;34m\u001b[0m\u001b[0m\n",
      "\u001b[0;31mNameError\u001b[0m: name 'histories_500' is not defined"
     ]
    },
    {
     "data": {
      "image/png": "[encoded data removed]",
      "text/plain": [
       "<matplotlib.figure.Figure at 0x7fa2f1cb99b0>"
      ]
     },
     "metadata": {},
     "output_type": "display_data"
    }
   ],
   "source": [
    "fig, (ax1, ax2, ax3) = plt.subplots(3, 1, figsize=(12, 18))\n",
    "\n",
    "for name in sorted(set(list(histories_60.keys()) + list(histories_500.keys()) + list(histories_1_func.keys()))):\n",
    "    if name.find('det') != -1:\n",
    "        continue\n",
    "    if name.find('False') == -1:\n",
    "        linestyle = 'solid'\n",
    "    else:\n",
    "        linestyle = '--'\n",
    "        \n",
    "    if histories_60.get(name) is not None:\n",
    "        ax1.semilogy(histories_60[name], label=name, linestyle=linestyle)\n",
    "    if histories_500.get(name) is not None:\n",
    "        ax2.semilogy(histories_500[name], label=name, linestyle=linestyle)\n",
    "    if histories_1_func.get(name) is not None:\n",
    "        ax3.semilogy(histories_1_func[name], label=name, linestyle=linestyle)\n",
    "    \n",
    "# fig.legend(loc=4);\n",
    "ax1.set_title('50 functions; 60 iterations')\n",
    "ax2.set_title('50 functions; 500 iterations')\n",
    "ax3.set_title('1 function; 500 iterations')\n",
    "ax1.legend(loc=4)\n",
    "ax2.legend(loc=4)\n",
    "ax3.legend(loc=2)\n",
    "fig.tight_layout()"
   ]
  },
  {
   "cell_type": "code",
   "execution_count": null,
   "metadata": {
    "collapsed": false
   },
   "outputs": [],
   "source": [
    "theta, (W_, b_) = sample_point_and_params(ndim=2)\n",
    "\n",
    "sample_runs = {}\n",
    "\n",
    "for name, opt in lstm_optimizers.items():\n",
    "    history, losses = opt.optimize(theta, [W_, b_], 100)\n",
    "    history = np.concatenate([theta.reshape(1, -1), history], axis=0)\n",
    "    sample_runs[name] = (history, losses)\n",
    "    \n",
    "#     history, losses = opt.loss_det_fn(theta, 100, W_, b_)\n",
    "#     history = np.concatenate([theta.reshape(1, -1), history], axis=0)\n",
    "#     sample_runs[name+'_det'] = (history, losses)\n",
    "\n",
    "\n",
    "sample_runs['momentum'] = momentum_fn(theta, 100, W_, b_, 0.262144)"
   ]
  },
  {
   "cell_type": "code",
   "execution_count": null,
   "metadata": {
    "collapsed": false
   },
   "outputs": [],
   "source": [
    "theta_opt = np.linalg.pinv(W_).dot(b_)\n",
    "\n",
    "min_x = min(sample_runs[list(lstm_optimizers.keys())[0]][0].T[0])\n",
    "max_x = max(sample_runs[list(lstm_optimizers.keys())[0]][0].T[0])\n",
    "min_y = min(sample_runs[list(lstm_optimizers.keys())[0]][0].T[1])\n",
    "max_y = max(sample_runs[list(lstm_optimizers.keys())[0]][0].T[1])\n",
    "\n",
    "delta_x = (max_x - min_x) / 100.\n",
    "delta_y = (max_y - min_y) / 100.\n",
    "\n",
    "x = np.arange(2 * min_x - (min_x + max_x) / 2, 2 * max_x - (min_x + max_x) / 2, delta_x)\n",
    "y = np.arange(2 * min_y - (min_y + max_y) / 2, 2 * max_y - (min_y + max_y) / 2, delta_y)\n",
    "X, Y = np.meshgrid(x, y)\n",
    "\n",
    "Z = np.zeros(X.shape)\n",
    "for i in range(X.shape[0]):\n",
    "    for j in range(X.shape[1]):\n",
    "        z = ((W_.dot(np.array([X[i][j], Y[i][j]])) - b_)**2).sum()\n",
    "        Z[i][j] = z\n",
    "\n",
    "plt.figure(figsize=(15, 12))\n",
    "plt.title('Trajectory')\n",
    "\n",
    "CS = plt.contour(X, Y, Z, levels=[1e-4, 1e-3, 1e-2, 5e-2, 1e-1, 5e-1, 1e-0, 5e-0, 1e1])\n",
    "plt.clabel(CS, inline=1, fontsize=10)\n",
    "\n",
    "plt.xlabel('x1')\n",
    "plt.ylabel('x2')\n",
    "\n",
    "for name in sample_runs:\n",
    "    history, lss = sample_runs[name]\n",
    "    \n",
    "    if lss[-1] > 0.1:\n",
    "        continue\n",
    "    \n",
    "    linestyle = 'solid'\n",
    "    plt.plot(history.T[0], history.T[1], linestyle=linestyle, label=name, marker='x')\n",
    "\n",
    "# history, _ = sample_runs['momentum']\n",
    "# plt.plot(np.array(history).T[0], np.array(history).T[1], label='momentum', marker='o', linestyle='--')\n",
    "\n",
    "print(theta_opt)\n",
    "plt.plot([theta_opt[0]], [theta_opt[1]], marker='x', color='k')            \n",
    "plt.legend();"
   ]
  },
  {
   "cell_type": "code",
   "execution_count": null,
   "metadata": {
    "collapsed": false
   },
   "outputs": [],
   "source": [
    "plt.figure(figsize=(15, 12))\n",
    "plt.title('loss/step')\n",
    "plt.xlabel('step')\n",
    "plt.ylabel('loss')\n",
    "\n",
    "for name in sample_runs:\n",
    "    _, losses = sample_runs[name]\n",
    "    linestyle = 'solid'    \n",
    "    plt.semilogy(losses, label=name, linestyle=linestyle)\n",
    "\n",
    "plt.legend();"
   ]
  },
  {
   "cell_type": "code",
   "execution_count": null,
   "metadata": {
    "collapsed": true
   },
   "outputs": [],
   "source": []
  }
 ],
 "metadata": {
  "anaconda-cloud": {},
  "kernelspec": {
   "display_name": "Python [conda root]",
   "language": "python",
   "name": "conda-root-py"
  },
  "language_info": {
   "codemirror_mode": {
    "name": "ipython",
    "version": 3
   },
   "file_extension": ".py",
   "mimetype": "text/x-python",
   "name": "python",
   "nbconvert_exporter": "python",
   "pygments_lexer": "ipython3",
   "version": "3.5.2"
  }
 },
 "nbformat": 4,
 "nbformat_minor": 0
}
